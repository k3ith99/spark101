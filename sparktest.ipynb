{
 "cells": [
  {
   "cell_type": "code",
   "execution_count": 214,
   "id": "2dc5441e-0bbd-48a0-85ac-192f2536869f",
   "metadata": {},
   "outputs": [],
   "source": [
    "import findspark\n",
    "import pandas as pd\n",
    "findspark.init()\n",
    "findspark.find()\n",
    "import numpy as np"
   ]
  },
  {
   "cell_type": "code",
   "execution_count": 215,
   "id": "40f0ee41-43b5-4940-80b0-1e6b3feb88b6",
   "metadata": {},
   "outputs": [
    {
     "ename": "ConnectionRefusedError",
     "evalue": "[Errno 61] Connection refused",
     "output_type": "error",
     "traceback": [
      "\u001b[0;31m---------------------------------------------------------------------------\u001b[0m",
      "\u001b[0;31mConnectionRefusedError\u001b[0m                    Traceback (most recent call last)",
      "Cell \u001b[0;32mIn[215], line 4\u001b[0m\n\u001b[1;32m      1\u001b[0m \u001b[38;5;28;01mfrom\u001b[39;00m \u001b[38;5;21;01mpyspark\u001b[39;00m\u001b[38;5;21;01m.\u001b[39;00m\u001b[38;5;21;01msql\u001b[39;00m \u001b[38;5;28;01mimport\u001b[39;00m SparkSession\n\u001b[1;32m      2\u001b[0m \u001b[38;5;28;01mfrom\u001b[39;00m \u001b[38;5;21;01mpyspark\u001b[39;00m\u001b[38;5;21;01m.\u001b[39;00m\u001b[38;5;21;01msql\u001b[39;00m\u001b[38;5;21;01m.\u001b[39;00m\u001b[38;5;21;01mtypes\u001b[39;00m \u001b[38;5;28;01mimport\u001b[39;00m \u001b[38;5;241m*\u001b[39m\n\u001b[1;32m      3\u001b[0m spark \u001b[38;5;241m=\u001b[39m (\n\u001b[0;32m----> 4\u001b[0m     \u001b[43mSparkSession\u001b[49m\n\u001b[1;32m      5\u001b[0m \u001b[43m    \u001b[49m\u001b[38;5;241;43m.\u001b[39;49m\u001b[43mbuilder\u001b[49m\n\u001b[1;32m      6\u001b[0m \u001b[43m    \u001b[49m\u001b[38;5;241;43m.\u001b[39;49m\u001b[43mappName\u001b[49m\u001b[43m(\u001b[49m\u001b[38;5;124;43m\"\u001b[39;49m\u001b[38;5;124;43msparktest\u001b[39;49m\u001b[38;5;124;43m\"\u001b[39;49m\u001b[43m)\u001b[49m\n\u001b[1;32m      7\u001b[0m \u001b[43m    \u001b[49m\u001b[38;5;241;43m.\u001b[39;49m\u001b[43mmaster\u001b[49m\u001b[43m(\u001b[49m\u001b[38;5;124;43m\"\u001b[39;49m\u001b[38;5;124;43mlocal[6]\u001b[39;49m\u001b[38;5;124;43m\"\u001b[39;49m\u001b[43m)\u001b[49m\n\u001b[1;32m      8\u001b[0m \u001b[43m    \u001b[49m\u001b[38;5;241;43m.\u001b[39;49m\u001b[43mgetOrCreate\u001b[49m\u001b[43m(\u001b[49m\u001b[43m)\u001b[49m\n\u001b[1;32m      9\u001b[0m )\n\u001b[1;32m     10\u001b[0m \u001b[38;5;66;03m#A SparkContext represents the connection to a Spark cluster, and can be used to create RDD and broadcast variables on that cluster. It is the first step to using RDDs and connecting to a cluster\u001b[39;00m\n\u001b[1;32m     12\u001b[0m sc \u001b[38;5;241m=\u001b[39m spark\u001b[38;5;241m.\u001b[39msparkContext\n",
      "File \u001b[0;32m/usr/local/opt/apache-spark/libexec/python/pyspark/sql/session.py:483\u001b[0m, in \u001b[0;36mSparkSession.Builder.getOrCreate\u001b[0;34m(self)\u001b[0m\n\u001b[1;32m    480\u001b[0m     session \u001b[38;5;241m=\u001b[39m SparkSession(sc, options\u001b[38;5;241m=\u001b[39m\u001b[38;5;28mself\u001b[39m\u001b[38;5;241m.\u001b[39m_options)\n\u001b[1;32m    481\u001b[0m \u001b[38;5;28;01melse\u001b[39;00m:\n\u001b[1;32m    482\u001b[0m     \u001b[38;5;28mgetattr\u001b[39m(\n\u001b[0;32m--> 483\u001b[0m         \u001b[38;5;28;43mgetattr\u001b[39;49m\u001b[43m(\u001b[49m\u001b[43msession\u001b[49m\u001b[38;5;241;43m.\u001b[39;49m\u001b[43m_jvm\u001b[49m\u001b[43m,\u001b[49m\u001b[43m \u001b[49m\u001b[38;5;124;43m\"\u001b[39;49m\u001b[38;5;124;43mSparkSession$\u001b[39;49m\u001b[38;5;124;43m\"\u001b[39;49m\u001b[43m)\u001b[49m, \u001b[38;5;124m\"\u001b[39m\u001b[38;5;124mMODULE$\u001b[39m\u001b[38;5;124m\"\u001b[39m\n\u001b[1;32m    484\u001b[0m     )\u001b[38;5;241m.\u001b[39mapplyModifiableSettings(session\u001b[38;5;241m.\u001b[39m_jsparkSession, \u001b[38;5;28mself\u001b[39m\u001b[38;5;241m.\u001b[39m_options)\n\u001b[1;32m    485\u001b[0m \u001b[38;5;28;01mreturn\u001b[39;00m session\n",
      "File \u001b[0;32m/usr/local/opt/apache-spark/libexec/python/lib/py4j-0.10.9.7-src.zip/py4j/java_gateway.py:1712\u001b[0m, in \u001b[0;36mJVMView.__getattr__\u001b[0;34m(self, name)\u001b[0m\n\u001b[1;32m   1709\u001b[0m \u001b[38;5;28;01mif\u001b[39;00m name \u001b[38;5;241m==\u001b[39m UserHelpAutoCompletion\u001b[38;5;241m.\u001b[39mKEY:\n\u001b[1;32m   1710\u001b[0m     \u001b[38;5;28;01mreturn\u001b[39;00m UserHelpAutoCompletion()\n\u001b[0;32m-> 1712\u001b[0m answer \u001b[38;5;241m=\u001b[39m \u001b[38;5;28;43mself\u001b[39;49m\u001b[38;5;241;43m.\u001b[39;49m\u001b[43m_gateway_client\u001b[49m\u001b[38;5;241;43m.\u001b[39;49m\u001b[43msend_command\u001b[49m\u001b[43m(\u001b[49m\n\u001b[1;32m   1713\u001b[0m \u001b[43m    \u001b[49m\u001b[43mproto\u001b[49m\u001b[38;5;241;43m.\u001b[39;49m\u001b[43mREFLECTION_COMMAND_NAME\u001b[49m\u001b[43m \u001b[49m\u001b[38;5;241;43m+\u001b[39;49m\n\u001b[1;32m   1714\u001b[0m \u001b[43m    \u001b[49m\u001b[43mproto\u001b[49m\u001b[38;5;241;43m.\u001b[39;49m\u001b[43mREFL_GET_UNKNOWN_SUB_COMMAND_NAME\u001b[49m\u001b[43m \u001b[49m\u001b[38;5;241;43m+\u001b[39;49m\u001b[43m \u001b[49m\u001b[43mname\u001b[49m\u001b[43m \u001b[49m\u001b[38;5;241;43m+\u001b[39;49m\u001b[43m \u001b[49m\u001b[38;5;124;43m\"\u001b[39;49m\u001b[38;5;130;43;01m\\n\u001b[39;49;00m\u001b[38;5;124;43m\"\u001b[39;49m\u001b[43m \u001b[49m\u001b[38;5;241;43m+\u001b[39;49m\u001b[43m \u001b[49m\u001b[38;5;28;43mself\u001b[39;49m\u001b[38;5;241;43m.\u001b[39;49m\u001b[43m_id\u001b[49m\u001b[43m \u001b[49m\u001b[38;5;241;43m+\u001b[39;49m\n\u001b[1;32m   1715\u001b[0m \u001b[43m    \u001b[49m\u001b[38;5;124;43m\"\u001b[39;49m\u001b[38;5;130;43;01m\\n\u001b[39;49;00m\u001b[38;5;124;43m\"\u001b[39;49m\u001b[43m \u001b[49m\u001b[38;5;241;43m+\u001b[39;49m\u001b[43m \u001b[49m\u001b[43mproto\u001b[49m\u001b[38;5;241;43m.\u001b[39;49m\u001b[43mEND_COMMAND_PART\u001b[49m\u001b[43m)\u001b[49m\n\u001b[1;32m   1716\u001b[0m \u001b[38;5;28;01mif\u001b[39;00m answer \u001b[38;5;241m==\u001b[39m proto\u001b[38;5;241m.\u001b[39mSUCCESS_PACKAGE:\n\u001b[1;32m   1717\u001b[0m     \u001b[38;5;28;01mreturn\u001b[39;00m JavaPackage(name, \u001b[38;5;28mself\u001b[39m\u001b[38;5;241m.\u001b[39m_gateway_client, jvm_id\u001b[38;5;241m=\u001b[39m\u001b[38;5;28mself\u001b[39m\u001b[38;5;241m.\u001b[39m_id)\n",
      "File \u001b[0;32m/usr/local/opt/apache-spark/libexec/python/lib/py4j-0.10.9.7-src.zip/py4j/java_gateway.py:1036\u001b[0m, in \u001b[0;36mGatewayClient.send_command\u001b[0;34m(self, command, retry, binary)\u001b[0m\n\u001b[1;32m   1015\u001b[0m \u001b[38;5;28;01mdef\u001b[39;00m \u001b[38;5;21msend_command\u001b[39m(\u001b[38;5;28mself\u001b[39m, command, retry\u001b[38;5;241m=\u001b[39m\u001b[38;5;28;01mTrue\u001b[39;00m, binary\u001b[38;5;241m=\u001b[39m\u001b[38;5;28;01mFalse\u001b[39;00m):\n\u001b[1;32m   1016\u001b[0m \u001b[38;5;250m    \u001b[39m\u001b[38;5;124;03m\"\"\"Sends a command to the JVM. This method is not intended to be\u001b[39;00m\n\u001b[1;32m   1017\u001b[0m \u001b[38;5;124;03m       called directly by Py4J users. It is usually called by\u001b[39;00m\n\u001b[1;32m   1018\u001b[0m \u001b[38;5;124;03m       :class:`JavaMember` instances.\u001b[39;00m\n\u001b[0;32m   (...)\u001b[0m\n\u001b[1;32m   1034\u001b[0m \u001b[38;5;124;03m     if `binary` is `True`.\u001b[39;00m\n\u001b[1;32m   1035\u001b[0m \u001b[38;5;124;03m    \"\"\"\u001b[39;00m\n\u001b[0;32m-> 1036\u001b[0m     connection \u001b[38;5;241m=\u001b[39m \u001b[38;5;28;43mself\u001b[39;49m\u001b[38;5;241;43m.\u001b[39;49m\u001b[43m_get_connection\u001b[49m\u001b[43m(\u001b[49m\u001b[43m)\u001b[49m\n\u001b[1;32m   1037\u001b[0m     \u001b[38;5;28;01mtry\u001b[39;00m:\n\u001b[1;32m   1038\u001b[0m         response \u001b[38;5;241m=\u001b[39m connection\u001b[38;5;241m.\u001b[39msend_command(command)\n",
      "File \u001b[0;32m/usr/local/opt/apache-spark/libexec/python/lib/py4j-0.10.9.7-src.zip/py4j/clientserver.py:284\u001b[0m, in \u001b[0;36mJavaClient._get_connection\u001b[0;34m(self)\u001b[0m\n\u001b[1;32m    281\u001b[0m     \u001b[38;5;28;01mpass\u001b[39;00m\n\u001b[1;32m    283\u001b[0m \u001b[38;5;28;01mif\u001b[39;00m connection \u001b[38;5;129;01mis\u001b[39;00m \u001b[38;5;28;01mNone\u001b[39;00m \u001b[38;5;129;01mor\u001b[39;00m connection\u001b[38;5;241m.\u001b[39msocket \u001b[38;5;129;01mis\u001b[39;00m \u001b[38;5;28;01mNone\u001b[39;00m:\n\u001b[0;32m--> 284\u001b[0m     connection \u001b[38;5;241m=\u001b[39m \u001b[38;5;28;43mself\u001b[39;49m\u001b[38;5;241;43m.\u001b[39;49m\u001b[43m_create_new_connection\u001b[49m\u001b[43m(\u001b[49m\u001b[43m)\u001b[49m\n\u001b[1;32m    285\u001b[0m \u001b[38;5;28;01mreturn\u001b[39;00m connection\n",
      "File \u001b[0;32m/usr/local/opt/apache-spark/libexec/python/lib/py4j-0.10.9.7-src.zip/py4j/clientserver.py:291\u001b[0m, in \u001b[0;36mJavaClient._create_new_connection\u001b[0;34m(self)\u001b[0m\n\u001b[1;32m    287\u001b[0m \u001b[38;5;28;01mdef\u001b[39;00m \u001b[38;5;21m_create_new_connection\u001b[39m(\u001b[38;5;28mself\u001b[39m):\n\u001b[1;32m    288\u001b[0m     connection \u001b[38;5;241m=\u001b[39m ClientServerConnection(\n\u001b[1;32m    289\u001b[0m         \u001b[38;5;28mself\u001b[39m\u001b[38;5;241m.\u001b[39mjava_parameters, \u001b[38;5;28mself\u001b[39m\u001b[38;5;241m.\u001b[39mpython_parameters,\n\u001b[1;32m    290\u001b[0m         \u001b[38;5;28mself\u001b[39m\u001b[38;5;241m.\u001b[39mgateway_property, \u001b[38;5;28mself\u001b[39m)\n\u001b[0;32m--> 291\u001b[0m     \u001b[43mconnection\u001b[49m\u001b[38;5;241;43m.\u001b[39;49m\u001b[43mconnect_to_java_server\u001b[49m\u001b[43m(\u001b[49m\u001b[43m)\u001b[49m\n\u001b[1;32m    292\u001b[0m     \u001b[38;5;28mself\u001b[39m\u001b[38;5;241m.\u001b[39mset_thread_connection(connection)\n\u001b[1;32m    293\u001b[0m     \u001b[38;5;28;01mreturn\u001b[39;00m connection\n",
      "File \u001b[0;32m/usr/local/opt/apache-spark/libexec/python/lib/py4j-0.10.9.7-src.zip/py4j/clientserver.py:438\u001b[0m, in \u001b[0;36mClientServerConnection.connect_to_java_server\u001b[0;34m(self)\u001b[0m\n\u001b[1;32m    435\u001b[0m \u001b[38;5;28;01mif\u001b[39;00m \u001b[38;5;28mself\u001b[39m\u001b[38;5;241m.\u001b[39mssl_context:\n\u001b[1;32m    436\u001b[0m     \u001b[38;5;28mself\u001b[39m\u001b[38;5;241m.\u001b[39msocket \u001b[38;5;241m=\u001b[39m \u001b[38;5;28mself\u001b[39m\u001b[38;5;241m.\u001b[39mssl_context\u001b[38;5;241m.\u001b[39mwrap_socket(\n\u001b[1;32m    437\u001b[0m         \u001b[38;5;28mself\u001b[39m\u001b[38;5;241m.\u001b[39msocket, server_hostname\u001b[38;5;241m=\u001b[39m\u001b[38;5;28mself\u001b[39m\u001b[38;5;241m.\u001b[39mjava_address)\n\u001b[0;32m--> 438\u001b[0m \u001b[38;5;28;43mself\u001b[39;49m\u001b[38;5;241;43m.\u001b[39;49m\u001b[43msocket\u001b[49m\u001b[38;5;241;43m.\u001b[39;49m\u001b[43mconnect\u001b[49m\u001b[43m(\u001b[49m\u001b[43m(\u001b[49m\u001b[38;5;28;43mself\u001b[39;49m\u001b[38;5;241;43m.\u001b[39;49m\u001b[43mjava_address\u001b[49m\u001b[43m,\u001b[49m\u001b[43m \u001b[49m\u001b[38;5;28;43mself\u001b[39;49m\u001b[38;5;241;43m.\u001b[39;49m\u001b[43mjava_port\u001b[49m\u001b[43m)\u001b[49m\u001b[43m)\u001b[49m\n\u001b[1;32m    439\u001b[0m \u001b[38;5;28mself\u001b[39m\u001b[38;5;241m.\u001b[39mstream \u001b[38;5;241m=\u001b[39m \u001b[38;5;28mself\u001b[39m\u001b[38;5;241m.\u001b[39msocket\u001b[38;5;241m.\u001b[39mmakefile(\u001b[38;5;124m\"\u001b[39m\u001b[38;5;124mrb\u001b[39m\u001b[38;5;124m\"\u001b[39m)\n\u001b[1;32m    440\u001b[0m \u001b[38;5;28mself\u001b[39m\u001b[38;5;241m.\u001b[39mis_connected \u001b[38;5;241m=\u001b[39m \u001b[38;5;28;01mTrue\u001b[39;00m\n",
      "\u001b[0;31mConnectionRefusedError\u001b[0m: [Errno 61] Connection refused"
     ]
    }
   ],
   "source": [
    "from pyspark.sql import SparkSession\n",
    "from pyspark.sql.types import *\n",
    "spark = (\n",
    "    SparkSession\n",
    "    .builder\n",
    "    .appName(\"sparktest\")\n",
    "    .master(\"local[6]\")\n",
    "    .getOrCreate()\n",
    ")\n",
    "#A SparkContext represents the connection to a Spark cluster, and can be used to create RDD and broadcast variables on that cluster. It is the first step to using RDDs and connecting to a cluster\n",
    "\n",
    "sc = spark.sparkContext\n",
    "spark"
   ]
  },
  {
   "cell_type": "code",
   "execution_count": null,
   "id": "d01f8c18-0ffe-49bb-a26e-ba5629d33dc5",
   "metadata": {},
   "outputs": [],
   "source": [
    "#can read csv using sc.textFile(\"C:/...\")"
   ]
  },
  {
   "cell_type": "code",
   "execution_count": null,
   "id": "f2de9b3d-e5fa-4725-b5d5-03c21aa33821",
   "metadata": {},
   "outputs": [],
   "source": [
    "import findspark\n",
    "from pyspark import SparkContext\n",
    "from pyspark.sql import SparkSession, Window, Row\n",
    "from pyspark.sql.functions import *\n",
    "from pyspark.sql.types import *\n",
    "import matplotlib.pyplot as plt"
   ]
  },
  {
   "cell_type": "code",
   "execution_count": null,
   "id": "08c078f4-dc16-48da-ad35-d66daae270ca",
   "metadata": {},
   "outputs": [],
   "source": [
    "spark = SparkSession \\\n",
    "        .builder \\\n",
    "        .appName(\"firstSpark\") \\\n",
    "        .getOrCreate()"
   ]
  },
  {
   "cell_type": "code",
   "execution_count": null,
   "id": "aa039d60-8b2c-4c8c-a86a-e74b58bc3d0c",
   "metadata": {},
   "outputs": [],
   "source": [
    "df = spark.read.format('csv').options(header = 'true').load('serieA-matches.csv')\n",
    "df.limit(5).show()"
   ]
  },
  {
   "cell_type": "code",
   "execution_count": null,
   "id": "469ba8fc-7b7a-49fd-ac24-abca729ab2f1",
   "metadata": {},
   "outputs": [],
   "source": [
    "df.limit(5).toPandas()"
   ]
  },
  {
   "cell_type": "code",
   "execution_count": null,
   "id": "731ab2dc-9a25-4198-aa79-620cb8d1617f",
   "metadata": {},
   "outputs": [],
   "source": [
    "#who are the winners of the serie A in the last 10 years?"
   ]
  },
  {
   "cell_type": "code",
   "execution_count": null,
   "id": "4062f0a7-3770-41a9-8bc2-2860d5c363c3",
   "metadata": {},
   "outputs": [],
   "source": [
    "#create 3 new columns that stand for the number of home, away wins and draws\n",
    "df_matches = df.withColumn('HomeTeamWin', when (col('FinalResult') == 'H', 1).otherwise(0))\\\n",
    "             .withColumn('AwayTeamWin', when(col('FinalResult') == 'A', 1).otherwise(0)) \\\n",
    "             .withColumn('GameDraw', when(col('FinalResult') == 'D', 1).otherwise(0))\n"
   ]
  },
  {
   "cell_type": "code",
   "execution_count": null,
   "id": "03ad5094-0ed9-4696-84c9-980905b126f4",
   "metadata": {},
   "outputs": [],
   "source": [
    "#remove any unnecessary columns we may not use\n",
    "df_matches = df_matches.drop(*['Attendance','Referee','Round'])\n",
    "df_matches.toPandas()"
   ]
  },
  {
   "cell_type": "code",
   "execution_count": null,
   "id": "17f1af9b-716f-424f-9b09-995c1ee4826f",
   "metadata": {},
   "outputs": [],
   "source": [
    "#create a dataframe that groups home matches such as the number of home wins,losses, home goals, goals conceded and call it home\n",
    "home = df_matches.groupby('Season','Home')\\\n",
    "       .agg(sum('HomeTeamWin').alias('TotalHomeWin'),\n",
    "           sum('AwayTeamWin').alias('TotalHomeLoss'),\n",
    "           sum('GameDraw').alias('TotalHomeDraw'),\n",
    "           sum('HomeGoals').alias('HomeScoredGoals'),\n",
    "           sum('AwayGoals').alias('HomeAgainstGoals'))\\\n",
    "       .withColumnRenamed('Home','Team')"
   ]
  },
  {
   "cell_type": "code",
   "execution_count": null,
   "id": "f0069667-b713-45bb-abcc-aa291883ed8b",
   "metadata": {},
   "outputs": [],
   "source": [
    "#do the same for away matches\n",
    "away = df_matches.groupby('Season','Away')\\\n",
    "       .agg(sum('AwayTeamWin').alias('TotalAwayWin'),\n",
    "           sum('HomeTeamWin').alias('TotalAwayLoss'),\n",
    "           sum('GameDraw').alias('TotalAwayDraw'),\n",
    "           sum('AwayGoals').alias('AwayScoredGoals'),\n",
    "           sum('HomeGoals').alias('AwayAgainstGoals'))\\\n",
    "       .withColumnRenamed('Away','Team')"
   ]
  },
  {
   "cell_type": "code",
   "execution_count": null,
   "id": "d1ae523a-d814-4851-8145-32e2c51bed26",
   "metadata": {},
   "outputs": [],
   "source": [
    "home.toPandas()"
   ]
  },
  {
   "cell_type": "code",
   "execution_count": null,
   "id": "1b2001e2-babc-4374-a991-0d6e308cdf21",
   "metadata": {
    "scrolled": true
   },
   "outputs": [],
   "source": [
    "#order by the window which is the Season but the ranking is in descending order by win percentage and goal difference taking the second priority. Also inner join on Team and season to create a single df containing each Serie A table season\n",
    "\n",
    "window = ['Season']\n",
    "window = Window.partitionBy(window).orderBy(col('WinPct').desc(), col('GoalDifferentials').desc())\n",
    "table = home.join(away, ['Team', 'Season'],  'inner') \\\n",
    "    .withColumn('GoalsScored', col('HomeScoredGoals') + col('AwayScoredGoals')) \\\n",
    "    .withColumn('GoalsAgainst', col('HomeAgainstGoals') + col('AwayAgainstGoals')) \\\n",
    "    .withColumn('GoalDifferentials', col('GoalsScored') - col('GoalsAgainst')) \\\n",
    "    .withColumn('Win', col('TotalHomeWin') + col('TotalAwayWin')) \\\n",
    "    .withColumn('Loss', col('TotalHomeLoss') + col('TotalAwayLoss')) \\\n",
    "    .withColumn('Tie', col('TotalHomeDraw') + col('TotalAwayDraw')) \\\n",
    "    .withColumn('WinPct', round((100* col('Win')/(col('Win') + col('Loss') + col('Tie'))), 2)) \\\n",
    "    .drop('HomeScoredGoals', 'AwayScoredGoals', 'HomeAgainstGoals', 'AwayAgainstGoals') \\\n",
    "    .drop('TotalHomeWin', 'TotalAwayWin', 'TotalHomeLoss', 'TotalAwayLoss', 'TotalHomeDraw', 'TotalAwayDraw') \\\n",
    "    .withColumn('TeamPosition', rank().over(window)) \n",
    "table_df = table.filter(col('TeamPosition') == 1).orderBy(asc('Season')).toPandas()\n",
    "table_df"
   ]
  },
  {
   "cell_type": "code",
   "execution_count": null,
   "id": "6d4fa43d-d24b-4a4b-a317-afaf19acf6cb",
   "metadata": {},
   "outputs": [],
   "source": [
    "#same here but totalpoints are used instead\n",
    "\n",
    "window = ['Season']\n",
    "window_totalpoints = Window.partitionBy(window).orderBy(col('TotalPoints').desc(), col('GoalDifferentials').desc())\n",
    "table_totalpoints = home.join(away, ['Team', 'Season'],  'inner') \\\n",
    "    .withColumn('GoalsScored', col('HomeScoredGoals') + col('AwayScoredGoals')) \\\n",
    "    .withColumn('GoalsAgainst', col('HomeAgainstGoals') + col('AwayAgainstGoals')) \\\n",
    "    .withColumn('GoalDifferentials', col('GoalsScored') - col('GoalsAgainst')) \\\n",
    "    .withColumn('Win', col('TotalHomeWin') + col('TotalAwayWin')) \\\n",
    "    .withColumn('Loss', col('TotalHomeLoss') + col('TotalAwayLoss')) \\\n",
    "    .withColumn('Tie', col('TotalHomeDraw') + col('TotalAwayDraw')) \\\n",
    "    .withColumn('TotalPoints', (col('Win') *3 + col('Tie'))) \\\n",
    "    .drop('HomeScoredGoals', 'AwayScoredGoals', 'HomeAgainstGoals', 'AwayAgainstGoals') \\\n",
    "    .drop('TotalHomeWin', 'TotalAwayWin', 'TotalHomeLoss', 'TotalAwayLoss', 'TotalHomeDraw', 'TotalAwayDraw') \\\n",
    "    .withColumn('TeamPosition', rank().over(window_totalpoints))\n",
    "totalpoints_df = table_totalpoints.filter(col('TeamPosition') == 1).orderBy(asc('Season')).toPandas()\n",
    "totalpoints_df"
   ]
  },
  {
   "cell_type": "code",
   "execution_count": null,
   "id": "266de505-b971-4b51-97ee-0b80d184e1ea",
   "metadata": {
    "scrolled": true
   },
   "outputs": [],
   "source": [
    "#Which teams have been relegated in the last 3 years?\n",
    "relegated = table_totalpoints.filter(col('TeamPosition') > 17).orderBy(asc('Season')).toPandas()\n",
    "relegated"
   ]
  },
  {
   "cell_type": "code",
   "execution_count": null,
   "id": "1be5adb9-db11-4af1-b849-4c54070a1d6f",
   "metadata": {},
   "outputs": [],
   "source": [
    "#Does the winter affect the perfomance of the bundesliga\n",
    "#compare overall win percentage for each team with the average win percentage over the winter and look at charts\n",
    "#generate a chart of win percentage fluctuating over the season, so do a cumulating sum of wins and away wins"
   ]
  },
  {
   "cell_type": "code",
   "execution_count": null,
   "id": "1cf449b9-d91e-4e4c-9143-501e2867f1f3",
   "metadata": {},
   "outputs": [],
   "source": [
    "#Which season of the Serie A was the most competitive in the last decade?\n",
    "#Find which season has the least points difference between first and sixth\n",
    "competitive_df = table_totalpoints.filter((col('TeamPosition') == 1) | (col('TeamPosition') == 6)).orderBy(asc('Season')).drop('Team')\n",
    "# Define the window specification partitioned by 'Season'\n",
    "window_spec = Window.partitionBy('Season').orderBy('Season')  # Replace 'SomeColumn' with the column used for ordering\n",
    "# Calculate the difference between rows with the same 'Season' value\n",
    "df_with_diff = competitive_df.withColumn('Difference', col('TotalPoints') - lead(col('TotalPoints')).over(window_spec)).drop('GoalsScored','GoalsAgainst','GoalDifferentials','Win','Loss','Tie','TotalPoint','TeamPosition','TotalPoints')\n",
    "df_with_diff.toPandas().dropna()"
   ]
  },
  {
   "cell_type": "code",
   "execution_count": null,
   "id": "3e34a688-9845-4a63-bee4-42e2236cf8c0",
   "metadata": {},
   "outputs": [],
   "source": [
    "#What's the best month to watch Bundesliga?\n",
    "#find which month of the season has the highest average goals scored in the league\n",
    "#check type of date, include date and month in groupby transformation, do total of goals scored based on season and monthly window."
   ]
  },
  {
   "cell_type": "code",
   "execution_count": null,
   "id": "238b4a54-8380-4080-8a35-f3113f38e1c6",
   "metadata": {},
   "outputs": [],
   "source": [
    "x = table_totalpoints.groupby('Season').sum('GoalsScored').orderBy(asc('Season'))\n",
    "x.toPandas()"
   ]
  },
  {
   "cell_type": "code",
   "execution_count": null,
   "id": "5000c3c8-bfec-4f87-9c37-8687cba894fd",
   "metadata": {},
   "outputs": [],
   "source": [
    "df.limit(5).toPandas()"
   ]
  },
  {
   "cell_type": "code",
   "execution_count": null,
   "id": "fb205e0e-d350-4b0f-8fc6-3595ec4e7282",
   "metadata": {},
   "outputs": [],
   "source": []
  }
 ],
 "metadata": {
  "kernelspec": {
   "display_name": "Python 3 (ipykernel)",
   "language": "python",
   "name": "python3"
  },
  "language_info": {
   "codemirror_mode": {
    "name": "ipython",
    "version": 3
   },
   "file_extension": ".py",
   "mimetype": "text/x-python",
   "name": "python",
   "nbconvert_exporter": "python",
   "pygments_lexer": "ipython3",
   "version": "3.9.6"
  }
 },
 "nbformat": 4,
 "nbformat_minor": 5
}
