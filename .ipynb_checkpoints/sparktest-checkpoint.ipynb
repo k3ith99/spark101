{
 "cells": [
  {
   "cell_type": "code",
   "execution_count": 1,
   "id": "2dc5441e-0bbd-48a0-85ac-192f2536869f",
   "metadata": {},
   "outputs": [
    {
     "data": {
      "text/plain": [
       "'/usr/local/opt/apache-spark/libexec'"
      ]
     },
     "execution_count": 1,
     "metadata": {},
     "output_type": "execute_result"
    }
   ],
   "source": [
    "import findspark\n",
    "findspark.init()\n",
    "findspark.find()"
   ]
  },
  {
   "cell_type": "code",
   "execution_count": 2,
   "id": "40f0ee41-43b5-4940-80b0-1e6b3feb88b6",
   "metadata": {},
   "outputs": [
    {
     "name": "stderr",
     "output_type": "stream",
     "text": [
      "23/07/13 11:29:21 WARN Utils: Your hostname, Hamsas-MacBook-Pro.local resolves to a loopback address: 127.0.0.1; using 192.168.0.152 instead (on interface en0)\n",
      "23/07/13 11:29:21 WARN Utils: Set SPARK_LOCAL_IP if you need to bind to another address\n",
      "Setting default log level to \"WARN\".\n",
      "To adjust logging level use sc.setLogLevel(newLevel). For SparkR, use setLogLevel(newLevel).\n",
      "23/07/13 11:29:22 WARN NativeCodeLoader: Unable to load native-hadoop library for your platform... using builtin-java classes where applicable\n"
     ]
    },
    {
     "data": {
      "text/html": [
       "\n",
       "            <div>\n",
       "                <p><b>SparkSession - in-memory</b></p>\n",
       "                \n",
       "        <div>\n",
       "            <p><b>SparkContext</b></p>\n",
       "\n",
       "            <p><a href=\"http://192.168.0.152:4040\">Spark UI</a></p>\n",
       "\n",
       "            <dl>\n",
       "              <dt>Version</dt>\n",
       "                <dd><code>v3.4.1</code></dd>\n",
       "              <dt>Master</dt>\n",
       "                <dd><code>local[4]</code></dd>\n",
       "              <dt>AppName</dt>\n",
       "                <dd><code>sparktest</code></dd>\n",
       "            </dl>\n",
       "        </div>\n",
       "        \n",
       "            </div>\n",
       "        "
      ],
      "text/plain": [
       "<pyspark.sql.session.SparkSession at 0x10700e2b0>"
      ]
     },
     "execution_count": 2,
     "metadata": {},
     "output_type": "execute_result"
    }
   ],
   "source": [
    "from pyspark.sql import SparkSession\n",
    "from pyspark.sql.types import *\n",
    "spark = (\n",
    "    SparkSession\n",
    "    .builder\n",
    "    .appName(\"sparktest\")\n",
    "    .master(\"local[4]\")\n",
    "    .getOrCreate()\n",
    ")\n",
    "#A SparkContext represents the connection to a Spark cluster, and can be used to create RDD and broadcast variables on that cluster. It is the first step to using RDDs and connecting to a cluster\n",
    "\n",
    "sc = spark.sparkContext\n",
    "spark"
   ]
  },
  {
   "cell_type": "code",
   "execution_count": 11,
   "id": "d01f8c18-0ffe-49bb-a26e-ba5629d33dc5",
   "metadata": {},
   "outputs": [],
   "source": [
    "#can read csv using sc.textFile(\"C:/...\")"
   ]
  },
  {
   "cell_type": "code",
   "execution_count": 12,
   "id": "7e8497ef-20c5-41d0-b793-d14fb4c85c9d",
   "metadata": {},
   "outputs": [],
   "source": [
    "#Apply map operation to split each record by comma, and get array of items\n",
    "#lambda takes argument and an expression to evaluate\n",
    "\n",
    "taxiZoneswithColsRdd = (\n",
    "    taxiZonesRdd\n",
    "        .map(lambda zone:zone.split(','))\n",
    ")"
   ]
  },
  {
   "cell_type": "code",
   "execution_count": 1,
   "id": "f2de9b3d-e5fa-4725-b5d5-03c21aa33821",
   "metadata": {},
   "outputs": [],
   "source": [
    "import findspark\n",
    "from pyspark import SparkContext\n",
    "from pyspark.sql import SparkSession, Window, Row\n",
    "from pyspark.sql.functions import *\n",
    "from pyspark.sql.types import *\n",
    "import matplotlib.pyplot as plt"
   ]
  },
  {
   "cell_type": "code",
   "execution_count": 2,
   "id": "08c078f4-dc16-48da-ad35-d66daae270ca",
   "metadata": {},
   "outputs": [
    {
     "name": "stderr",
     "output_type": "stream",
     "text": [
      "23/07/17 17:14:03 WARN Utils: Your hostname, Hamsas-MacBook-Pro.local resolves to a loopback address: 127.0.0.1; using 192.168.0.152 instead (on interface en0)\n",
      "23/07/17 17:14:03 WARN Utils: Set SPARK_LOCAL_IP if you need to bind to another address\n",
      "Setting default log level to \"WARN\".\n",
      "To adjust logging level use sc.setLogLevel(newLevel). For SparkR, use setLogLevel(newLevel).\n",
      "23/07/17 17:14:04 WARN NativeCodeLoader: Unable to load native-hadoop library for your platform... using builtin-java classes where applicable\n"
     ]
    }
   ],
   "source": [
    "spark = SparkSession \\\n",
    "        .builder \\\n",
    "        .appName(\"firstSpark\") \\\n",
    "        .getOrCreate()"
   ]
  },
  {
   "cell_type": "code",
   "execution_count": 7,
   "id": "aa039d60-8b2c-4c8c-a86a-e74b58bc3d0c",
   "metadata": {},
   "outputs": [
    {
     "name": "stdout",
     "output_type": "stream",
     "text": [
      "+---+---+---+----------+----+---------+-------------+-----+--------+----------+-----+-------------------+---------+---------+-----------+----+----+-----+\n",
      "|_c0| Wk|Day|      Date|Time|   Season|         Home|Score|    Away|Attendance|Venue|            Referee|HomeGoals|AwayGoals|FinalResult|  xG|xG.1|Round|\n",
      "+---+---+---+----------+----+---------+-------------+-----+--------+----------+-----+-------------------+---------+---------+-----------+----+----+-----+\n",
      "|  0|1.0|Sat|2013-08-24|null|2013-2014|    Sampdoria|  0–1|Juventus|      null| null|         Luca Banti|        0|        1|          A|null|null| null|\n",
      "|  1|1.0|Sat|2013-08-24|null|2013-2014|Hellas Verona|  2–1|   Milan|      null| null|Gianpaolo Calvarese|        2|        1|          H|null|null| null|\n",
      "|  2|1.0|Sun|2013-08-25|null|2013-2014|       Napoli|  3–0| Bologna|      null| null|    Andrea De Marco|        3|        0|          H|null|null| null|\n",
      "|  3|1.0|Sun|2013-08-25|null|2013-2014|     Cagliari|  2–1|Atalanta|      null| null|Massimiliano Irrati|        2|        1|          H|null|null| null|\n",
      "|  4|1.0|Sun|2013-08-25|null|2013-2014|        Parma|  0–0|  Chievo|      null| null|     Nicola Rizzoli|        0|        0|          D|null|null| null|\n",
      "+---+---+---+----------+----+---------+-------------+-----+--------+----------+-----+-------------------+---------+---------+-----------+----+----+-----+\n",
      "\n"
     ]
    },
    {
     "name": "stderr",
     "output_type": "stream",
     "text": [
      "23/07/17 17:25:11 WARN CSVHeaderChecker: CSV header does not conform to the schema.\n",
      " Header: , Wk, Day, Date, Time, Season, Home, Score, Away, Attendance, Venue, Referee, HomeGoals, AwayGoals, FinalResult, xG, xG.1, Round\n",
      " Schema: _c0, Wk, Day, Date, Time, Season, Home, Score, Away, Attendance, Venue, Referee, HomeGoals, AwayGoals, FinalResult, xG, xG.1, Round\n",
      "Expected: _c0 but found: \n",
      "CSV file: file:///Users/hamzawork/Data_engineering/spark101/serieA-matches.csv\n"
     ]
    }
   ],
   "source": [
    "df = spark.read.format('csv').options(header = 'true').load('serieA-matches.csv')\n",
    "df.limit(5).show()"
   ]
  },
  {
   "cell_type": "code",
   "execution_count": 8,
   "id": "469ba8fc-7b7a-49fd-ac24-abca729ab2f1",
   "metadata": {},
   "outputs": [
    {
     "name": "stderr",
     "output_type": "stream",
     "text": [
      "23/07/17 17:30:14 WARN CSVHeaderChecker: CSV header does not conform to the schema.\n",
      " Header: , Wk, Day, Date, Time, Season, Home, Score, Away, Attendance, Venue, Referee, HomeGoals, AwayGoals, FinalResult, xG, xG.1, Round\n",
      " Schema: _c0, Wk, Day, Date, Time, Season, Home, Score, Away, Attendance, Venue, Referee, HomeGoals, AwayGoals, FinalResult, xG, xG.1, Round\n",
      "Expected: _c0 but found: \n",
      "CSV file: file:///Users/hamzawork/Data_engineering/spark101/serieA-matches.csv\n"
     ]
    },
    {
     "data": {
      "text/html": [
       "<div>\n",
       "<style scoped>\n",
       "    .dataframe tbody tr th:only-of-type {\n",
       "        vertical-align: middle;\n",
       "    }\n",
       "\n",
       "    .dataframe tbody tr th {\n",
       "        vertical-align: top;\n",
       "    }\n",
       "\n",
       "    .dataframe thead th {\n",
       "        text-align: right;\n",
       "    }\n",
       "</style>\n",
       "<table border=\"1\" class=\"dataframe\">\n",
       "  <thead>\n",
       "    <tr style=\"text-align: right;\">\n",
       "      <th></th>\n",
       "      <th>_c0</th>\n",
       "      <th>Wk</th>\n",
       "      <th>Day</th>\n",
       "      <th>Date</th>\n",
       "      <th>Time</th>\n",
       "      <th>Season</th>\n",
       "      <th>Home</th>\n",
       "      <th>Score</th>\n",
       "      <th>Away</th>\n",
       "      <th>Attendance</th>\n",
       "      <th>Venue</th>\n",
       "      <th>Referee</th>\n",
       "      <th>HomeGoals</th>\n",
       "      <th>AwayGoals</th>\n",
       "      <th>FinalResult</th>\n",
       "      <th>xG</th>\n",
       "      <th>xG.1</th>\n",
       "      <th>Round</th>\n",
       "    </tr>\n",
       "  </thead>\n",
       "  <tbody>\n",
       "    <tr>\n",
       "      <th>0</th>\n",
       "      <td>0</td>\n",
       "      <td>1.0</td>\n",
       "      <td>Sat</td>\n",
       "      <td>2013-08-24</td>\n",
       "      <td>None</td>\n",
       "      <td>2013-2014</td>\n",
       "      <td>Sampdoria</td>\n",
       "      <td>0–1</td>\n",
       "      <td>Juventus</td>\n",
       "      <td>None</td>\n",
       "      <td>None</td>\n",
       "      <td>Luca Banti</td>\n",
       "      <td>0</td>\n",
       "      <td>1</td>\n",
       "      <td>A</td>\n",
       "      <td>None</td>\n",
       "      <td>None</td>\n",
       "      <td>None</td>\n",
       "    </tr>\n",
       "    <tr>\n",
       "      <th>1</th>\n",
       "      <td>1</td>\n",
       "      <td>1.0</td>\n",
       "      <td>Sat</td>\n",
       "      <td>2013-08-24</td>\n",
       "      <td>None</td>\n",
       "      <td>2013-2014</td>\n",
       "      <td>Hellas Verona</td>\n",
       "      <td>2–1</td>\n",
       "      <td>Milan</td>\n",
       "      <td>None</td>\n",
       "      <td>None</td>\n",
       "      <td>Gianpaolo Calvarese</td>\n",
       "      <td>2</td>\n",
       "      <td>1</td>\n",
       "      <td>H</td>\n",
       "      <td>None</td>\n",
       "      <td>None</td>\n",
       "      <td>None</td>\n",
       "    </tr>\n",
       "    <tr>\n",
       "      <th>2</th>\n",
       "      <td>2</td>\n",
       "      <td>1.0</td>\n",
       "      <td>Sun</td>\n",
       "      <td>2013-08-25</td>\n",
       "      <td>None</td>\n",
       "      <td>2013-2014</td>\n",
       "      <td>Napoli</td>\n",
       "      <td>3–0</td>\n",
       "      <td>Bologna</td>\n",
       "      <td>None</td>\n",
       "      <td>None</td>\n",
       "      <td>Andrea De Marco</td>\n",
       "      <td>3</td>\n",
       "      <td>0</td>\n",
       "      <td>H</td>\n",
       "      <td>None</td>\n",
       "      <td>None</td>\n",
       "      <td>None</td>\n",
       "    </tr>\n",
       "    <tr>\n",
       "      <th>3</th>\n",
       "      <td>3</td>\n",
       "      <td>1.0</td>\n",
       "      <td>Sun</td>\n",
       "      <td>2013-08-25</td>\n",
       "      <td>None</td>\n",
       "      <td>2013-2014</td>\n",
       "      <td>Cagliari</td>\n",
       "      <td>2–1</td>\n",
       "      <td>Atalanta</td>\n",
       "      <td>None</td>\n",
       "      <td>None</td>\n",
       "      <td>Massimiliano Irrati</td>\n",
       "      <td>2</td>\n",
       "      <td>1</td>\n",
       "      <td>H</td>\n",
       "      <td>None</td>\n",
       "      <td>None</td>\n",
       "      <td>None</td>\n",
       "    </tr>\n",
       "    <tr>\n",
       "      <th>4</th>\n",
       "      <td>4</td>\n",
       "      <td>1.0</td>\n",
       "      <td>Sun</td>\n",
       "      <td>2013-08-25</td>\n",
       "      <td>None</td>\n",
       "      <td>2013-2014</td>\n",
       "      <td>Parma</td>\n",
       "      <td>0–0</td>\n",
       "      <td>Chievo</td>\n",
       "      <td>None</td>\n",
       "      <td>None</td>\n",
       "      <td>Nicola Rizzoli</td>\n",
       "      <td>0</td>\n",
       "      <td>0</td>\n",
       "      <td>D</td>\n",
       "      <td>None</td>\n",
       "      <td>None</td>\n",
       "      <td>None</td>\n",
       "    </tr>\n",
       "  </tbody>\n",
       "</table>\n",
       "</div>"
      ],
      "text/plain": [
       "  _c0   Wk  Day        Date  Time     Season           Home Score      Away  \\\n",
       "0   0  1.0  Sat  2013-08-24  None  2013-2014      Sampdoria   0–1  Juventus   \n",
       "1   1  1.0  Sat  2013-08-24  None  2013-2014  Hellas Verona   2–1     Milan   \n",
       "2   2  1.0  Sun  2013-08-25  None  2013-2014         Napoli   3–0   Bologna   \n",
       "3   3  1.0  Sun  2013-08-25  None  2013-2014       Cagliari   2–1  Atalanta   \n",
       "4   4  1.0  Sun  2013-08-25  None  2013-2014          Parma   0–0    Chievo   \n",
       "\n",
       "  Attendance Venue              Referee HomeGoals AwayGoals FinalResult    xG  \\\n",
       "0       None  None           Luca Banti         0         1           A  None   \n",
       "1       None  None  Gianpaolo Calvarese         2         1           H  None   \n",
       "2       None  None      Andrea De Marco         3         0           H  None   \n",
       "3       None  None  Massimiliano Irrati         2         1           H  None   \n",
       "4       None  None       Nicola Rizzoli         0         0           D  None   \n",
       "\n",
       "   xG.1 Round  \n",
       "0  None  None  \n",
       "1  None  None  \n",
       "2  None  None  \n",
       "3  None  None  \n",
       "4  None  None  "
      ]
     },
     "execution_count": 8,
     "metadata": {},
     "output_type": "execute_result"
    }
   ],
   "source": [
    "df.limit(5).toPandas()"
   ]
  },
  {
   "cell_type": "code",
   "execution_count": null,
   "id": "731ab2dc-9a25-4198-aa79-620cb8d1617f",
   "metadata": {},
   "outputs": [],
   "source": [
    "#who are the winners of the serie A in the last 10 years?"
   ]
  },
  {
   "cell_type": "code",
   "execution_count": null,
   "id": "4062f0a7-3770-41a9-8bc2-2860d5c363c3",
   "metadata": {},
   "outputs": [],
   "source": []
  }
 ],
 "metadata": {
  "kernelspec": {
   "display_name": "Python 3 (ipykernel)",
   "language": "python",
   "name": "python3"
  },
  "language_info": {
   "codemirror_mode": {
    "name": "ipython",
    "version": 3
   },
   "file_extension": ".py",
   "mimetype": "text/x-python",
   "name": "python",
   "nbconvert_exporter": "python",
   "pygments_lexer": "ipython3",
   "version": "3.9.6"
  }
 },
 "nbformat": 4,
 "nbformat_minor": 5
}
